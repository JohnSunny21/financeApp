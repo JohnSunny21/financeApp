{
 "cells": [
  {
   "cell_type": "code",
   "execution_count": 1,
   "id": "eb9a8e95-2c83-4986-aac6-0a2b78c17173",
   "metadata": {},
   "outputs": [],
   "source": [
    "import pandas as pd"
   ]
  },
  {
   "cell_type": "code",
   "execution_count": 2,
   "id": "5a769728-c633-4d96-a2da-38fe612599e1",
   "metadata": {},
   "outputs": [],
   "source": [
    "\n",
    "# This is the raw data our Spring Boot app will eventually send us.\n",
    "# We are only interested in expenses for this analysis.\n",
    "transactions = [\n",
    "    {\"description\": \"Rent Payment\", \"amount\": 1200.00, \"category\": \"Rent\", \"type\": \"EXPENSE\"},\n",
    "    {\"description\": \"Starbucks Coffee\", \"amount\": 5.75, \"category\": \"Food\", \"type\": \"EXPENSE\"},\n",
    "    {\"description\": \"Weekly Groceries\", \"amount\": 85.50, \"category\": \"Groceries\", \"type\": \"EXPENSE\"},\n",
    "    {\"description\": \"Monthly Salary\", \"amount\": 3000.00, \"category\": \"Salary\", \"type\": \"INCOME\"}, # This will be ignored\n",
    "    {\"description\": \"Train Ticket\", \"amount\": 12.00, \"category\": \"Transport\", \"type\": \"EXPENSE\"},\n",
    "    {\"description\": \"Netflix Subscription\", \"amount\": 15.99, \"category\": \"Subscriptions\", \"type\": \"EXPENSE\"},\n",
    "    {\"description\": \"Dinner with friends\", \"amount\": 65.00, \"category\": \"Food\", \"type\": \"EXPENSE\"},\n",
    "    {\"description\": \"Car Insurance\", \"amount\": 150.00, \"category\": \"Utilities\", \"type\": \"EXPENSE\"}\n",
    "]"
   ]
  },
  {
   "cell_type": "code",
   "execution_count": 3,
   "id": "c6336e5a-b8ac-4bb8-8e7d-36f9075ccd01",
   "metadata": {},
   "outputs": [],
   "source": [
    "# The first thing we do is load this data into the pandas DataFrame.\n",
    "# Think of a DataFrame as a super-powered spreadsheet inside python.\n",
    "\n",
    "df = pd.DataFrame(transactions)"
   ]
  },
  {
   "cell_type": "code",
   "execution_count": 8,
   "id": "1f5e9bf6-b303-44ee-9a08-d73c891e37ef",
   "metadata": {},
   "outputs": [],
   "source": [
    "# Filter out anything that isn't an expense\n",
    "df_expenses = df[df['type'] == 'EXPENSE'].copy()"
   ]
  },
  {
   "cell_type": "code",
   "execution_count": 11,
   "id": "63703926-e553-4d40-a986-b9868d45104f",
   "metadata": {},
   "outputs": [
    {
     "name": "stdout",
     "output_type": "stream",
     "text": [
      "----- Step 1: Our starting Expense Data ---\n",
      "            description   amount       category     type\n",
      "0          Rent Payment  1200.00           Rent  EXPENSE\n",
      "1      Starbucks Coffee     5.75           Food  EXPENSE\n",
      "2      Weekly Groceries    85.50      Groceries  EXPENSE\n",
      "4          Train Ticket    12.00      Transport  EXPENSE\n",
      "5  Netflix Subscription    15.99  Subscriptions  EXPENSE\n",
      "6   Dinner with friends    65.00           Food  EXPENSE\n",
      "7         Car Insurance   150.00      Utilities  EXPENSE\n"
     ]
    }
   ],
   "source": [
    "print(\"----- Step 1: Our starting Expense Data ---\")\n",
    "print(df_expenses)"
   ]
  },
  {
   "cell_type": "code",
   "execution_count": 23,
   "id": "22daaee5-b9d3-4c97-8fbc-b6029790b1ac",
   "metadata": {},
   "outputs": [
    {
     "name": "stdout",
     "output_type": "stream",
     "text": [
      "\n",
      " ---- Step 2a: The One-Hot Encoded Categories (Our CheckBoxes) ---\n",
      "   category_Food  category_Groceries  category_Rent  category_Subscriptions  \\\n",
      "0          False               False           True                   False   \n",
      "1           True               False          False                   False   \n",
      "2          False                True          False                   False   \n",
      "4          False               False          False                   False   \n",
      "5          False               False          False                    True   \n",
      "6           True               False          False                   False   \n",
      "7          False               False          False                   False   \n",
      "\n",
      "   category_Transport  category_Utilities  \n",
      "0               False               False  \n",
      "1               False               False  \n",
      "2               False               False  \n",
      "4                True               False  \n",
      "5               False               False  \n",
      "6               False               False  \n",
      "7               False                True  \n",
      "\n",
      " ---- Step 2b: Our Final Numerical Data for the Model ----\n",
      "    amount  category_Food  category_Groceries  category_Rent  \\\n",
      "0  1200.00          False               False           True   \n",
      "1     5.75           True               False          False   \n",
      "2    85.50          False                True          False   \n",
      "4    12.00          False               False          False   \n",
      "5    15.99          False               False          False   \n",
      "6    65.00           True               False          False   \n",
      "7   150.00          False               False          False   \n",
      "\n",
      "   category_Subscriptions  category_Transport  category_Utilities  \n",
      "0                   False               False               False  \n",
      "1                   False               False               False  \n",
      "2                   False               False               False  \n",
      "4                   False                True               False  \n",
      "5                    True               False               False  \n",
      "6                   False               False               False  \n",
      "7                   False               False                True  \n"
     ]
    }
   ],
   "source": [
    "\"\"\"\n",
    "Translating to a Language the Computer Understands (Feature Engineering)\n",
    "A computer doesn't understand \"Food\" or \"Rent.\" It only understands numbers. \n",
    "We need to convert our data into a purely numerical format. The two pieces of information \n",
    "(the features) we care about are amount and category.\n",
    "amount is already a number. Great!\n",
    "category is text. We need to convert it. We'll use a technique called One-Hot Encoding.\n",
    "One-Hot Encoding Analogy: Imagine for each transaction, you have a set of checkboxes: \n",
    "\"Is this 'Food'?\", \"Is this 'Rent'?\", \"Is this 'Transport'?\". You just check 'Yes' (1) \n",
    "or 'No' (0) for each one.\n",
    "\"\"\"\n",
    "# We start with the numerical 'amount' column\n",
    "features = df_expenses[['amount']]\n",
    "\n",
    "\n",
    "# Now we perform one-hot encoding on the 'category' column\n",
    "# pd.get_dummies() automatically created the \"checkbox\" columns for us\n",
    "\n",
    "category_dummies = pd.get_dummies(df_expenses['category'],prefix='category')\n",
    "\n",
    "\n",
    "print(\"\\n ---- Step 2a: The One-Hot Encoded Categories (Our CheckBoxes) ---\")\n",
    "print(category_dummies)\n",
    "\n",
    "\n",
    "# Now, we combine our numerical amount with our new category checkboxes\n",
    "# axis =1 tells pandas to join the side-by-side (as columns)\n",
    "features = pd.concat([features, category_dummies], axis=1)\n",
    "\n",
    "print(\"\\n ---- Step 2b: Our Final Numerical Data for the Model ----\")\n",
    "print(features)\n",
    "\n"
   ]
  },
  {
   "cell_type": "code",
   "execution_count": 25,
   "id": "73d38af7-08f1-4235-9306-1a3f042e4631",
   "metadata": {},
   "outputs": [
    {
     "name": "stdout",
     "output_type": "stream",
     "text": [
      "\n",
      " ----- Step 3: Our Data, Scaled and Ready for Clustering ----\n",
      "[[ 2.43237626 -0.63245553 -0.40824829  2.44948974 -0.40824829 -0.40824829\n",
      "  -0.40824829]\n",
      " [-0.52928529  1.58113883 -0.40824829 -0.40824829 -0.40824829 -0.40824829\n",
      "  -0.40824829]\n",
      " [-0.33151053 -0.63245553  2.44948974 -0.40824829 -0.40824829 -0.40824829\n",
      "  -0.40824829]\n",
      " [-0.5137857  -0.63245553 -0.40824829 -0.40824829 -0.40824829  2.44948974\n",
      "  -0.40824829]\n",
      " [-0.50389077 -0.63245553 -0.40824829 -0.40824829  2.44948974 -0.40824829\n",
      "  -0.40824829]\n",
      " [-0.38234919  1.58113883 -0.40824829 -0.40824829 -0.40824829 -0.40824829\n",
      "  -0.40824829]\n",
      " [-0.17155477 -0.63245553 -0.40824829 -0.40824829 -0.40824829 -0.40824829\n",
      "   2.44948974]]\n"
     ]
    }
   ],
   "source": [
    "\"\"\"\n",
    "Making it Fair (Feature Scaling)\n",
    "Look at our numerical data. The amount for rent is 1200, while the value for category_Rent \n",
    "is just 1. The algorithm will mistakenly think the amount is 1200 times more important! \n",
    "We need to put all our numbers on the same scale. We'll use StandardScaler, which resizes \n",
    "everything to have an average of 0 and a standard deviation of 1.\n",
    "\"\"\"\n",
    "\n",
    "from sklearn.preprocessing import StandardScaler\n",
    "\n",
    "scaler = StandardScaler()\n",
    "\n",
    "# fit_transform learns the scale and applies it in one step\n",
    "scaled_features = scaler.fit_transform(features)\n",
    "\n",
    "print(\"\\n ----- Step 3: Our Data, Scaled and Ready for Clustering ----\")\n",
    "print(scaled_features)"
   ]
  },
  {
   "cell_type": "code",
   "execution_count": 26,
   "id": "b9d959fe-b61c-47a8-aba1-6a4165fd3bd2",
   "metadata": {},
   "outputs": [
    {
     "name": "stdout",
     "output_type": "stream",
     "text": [
      "\n",
      " ---- Step 4: Our Data with cluster labels Assigned ----\n",
      "            description   amount       category  cluster\n",
      "0          Rent Payment  1200.00           Rent        2\n",
      "1      Starbucks Coffee     5.75           Food        1\n",
      "2      Weekly Groceries    85.50      Groceries        0\n",
      "4          Train Ticket    12.00      Transport        1\n",
      "5  Netflix Subscription    15.99  Subscriptions        1\n",
      "6   Dinner with friends    65.00           Food        1\n",
      "7         Car Insurance   150.00      Utilities        1\n"
     ]
    }
   ],
   "source": [
    "from sklearn.cluster import KMeans\n",
    "\n",
    "# We tell the algorithm we want to find 3 clusters (K = 3)\n",
    "# random_state=42 ensures we get the same result every time we run the script. \n",
    "# It's like a lucky number for reproducibility.\n",
    "# n_init='auto' is a modern setting to suppress a future warning.\n",
    "\n",
    "kmeans = KMeans(n_clusters=3, random_state=42, n_init='auto')\n",
    "\n",
    "# fit_predict does the \"assign, update, assign, update...\" loop and gives us the final bin for each \n",
    "# Transaction.\n",
    "\n",
    "cluster_labels = kmeans.fit_predict(scaled_features)\n",
    "\n",
    "# Let's add these labels back to our original DataFrame to see the results\n",
    "df_expenses['cluster'] = cluster_labels\n",
    "\n",
    "print(\"\\n ---- Step 4: Our Data with cluster labels Assigned ----\")\n",
    "print(df_expenses[['description','amount','category','cluster']])"
   ]
  },
  {
   "cell_type": "code",
   "execution_count": 28,
   "id": "3bb9cfbe-df5d-47f0-a17e-71c4bb2d208b",
   "metadata": {},
   "outputs": [
    {
     "name": "stdout",
     "output_type": "stream",
     "text": [
      "\n",
      " ---- Step 5: Interpreting the Clusters into Human-Readable Insights ----\n",
      "\n",
      "-----------Analyzing Cluster 0 --------\n",
      "Insight Name: 'General Spending'\n",
      "    - Contains 1 transactions.\n",
      "    - Average amount is ₹85.50\n",
      "    - The most common category is 'Groceries'\n",
      "     - Transactions in this cluster:\n",
      "        description  amount\n",
      "2  Weekly Groceries    85.5\n",
      "\n",
      "-----------Analyzing Cluster 1 --------\n",
      "Insight Name: 'Regular Monthly Costs'\n",
      "    - Contains 5 transactions.\n",
      "    - Average amount is ₹49.75\n",
      "    - The most common category is 'Food'\n",
      "     - Transactions in this cluster:\n",
      "            description  amount\n",
      "1      Starbucks Coffee    5.75\n",
      "4          Train Ticket   12.00\n",
      "5  Netflix Subscription   15.99\n",
      "6   Dinner with friends   65.00\n",
      "7         Car Insurance  150.00\n",
      "\n",
      "-----------Analyzing Cluster 2 --------\n",
      "Insight Name: 'Major Bills & Payments'\n",
      "    - Contains 1 transactions.\n",
      "    - Average amount is ₹1200.00\n",
      "    - The most common category is 'Rent'\n",
      "     - Transactions in this cluster:\n",
      "    description  amount\n",
      "0  Rent Payment  1200.0\n"
     ]
    }
   ],
   "source": [
    "\"\"\"\n",
    "The output now shows each transaction and the cluster (0, 1, or 2) it was assigned to.\n",
    " Translating Back to Human Language (Cluster Interpretation)\n",
    "The computer gave us numbers 0, 1, 2. This is meaningless to a user. \n",
    "Our final job is to look inside each cluster and describe it in plain English.\n",
    "\"\"\"\n",
    "\n",
    "print(\"\\n ---- Step 5: Interpreting the Clusters into Human-Readable Insights ----\")\n",
    "\n",
    "# We loop through each unique cluster ID (0, 1, 2)\n",
    "\n",
    "for i in range(kmeans.n_clusters):\n",
    "    print(f\"\\n-----------Analyzing Cluster {i} --------\")\n",
    "\n",
    "    # Get all transactions belonging to this cluster\n",
    "    cluster_df = df_expenses[df_expenses['cluster'] == i]\n",
    "\n",
    "\n",
    "    # Calculate some statistics to describe the cluster\n",
    "    transaction_count = len(cluster_df)\n",
    "    average_amount = cluster_df['amount'].mean()\n",
    "\n",
    "    # .mode()[0] gets the most frequent category\n",
    "    most_common_category = cluster_df['category'].mode()[0]\n",
    "\n",
    "    # A  simple rule-based system to name our clusters\n",
    "    cluster_name = \"General Spending\"\n",
    "    if average_amount > 1000:\n",
    "        cluster_name = \"Major Bills & Payments\"\n",
    "    elif average_amount > 500:\n",
    "        cluster_name = \"Medium Bills & Payments\"\n",
    "    elif average_amount < 20:\n",
    "        cluster_name = \"Small, Daily Expenses\"\n",
    "    elif transaction_count > 2:\n",
    "        cluster_name = \"Regular Monthly Costs\"\n",
    "\n",
    "\n",
    "    print(f\"Insight Name: '{cluster_name}'\")\n",
    "    print(f\"    - Contains {transaction_count} transactions.\")\n",
    "    print(f\"    - Average amount is ₹{average_amount:.2f}\")\n",
    "    print(f\"    - The most common category is '{most_common_category}'\")\n",
    "    print(\"     - Transactions in this cluster:\")\n",
    "    print(cluster_df[['description','amount']])\n",
    "    "
   ]
  },
  {
   "cell_type": "code",
   "execution_count": 29,
   "id": "42dff7ae-f687-49f5-a138-aa13d0eef929",
   "metadata": {},
   "outputs": [
    {
     "name": "stdout",
     "output_type": "stream",
     "text": [
      "Collecting kneed\n",
      "  Downloading kneed-0.8.5-py3-none-any.whl.metadata (5.5 kB)\n",
      "Requirement already satisfied: numpy>=1.14.2 in c:\\users\\balla\\onedrive\\desktop\\workspace\\finance_app\\financemlservice\\venv\\lib\\site-packages (from kneed) (2.2.6)\n",
      "Requirement already satisfied: scipy>=1.0.0 in c:\\users\\balla\\onedrive\\desktop\\workspace\\finance_app\\financemlservice\\venv\\lib\\site-packages (from kneed) (1.15.3)\n",
      "Downloading kneed-0.8.5-py3-none-any.whl (10 kB)\n",
      "Installing collected packages: kneed\n",
      "Successfully installed kneed-0.8.5\n",
      "Note: you may need to restart the kernel to use updated packages.\n"
     ]
    }
   ],
   "source": [
    "pip install kneed"
   ]
  },
  {
   "cell_type": "code",
   "execution_count": 41,
   "id": "ee7e9ec9-a7f0-4a4c-920b-83ce542a17a8",
   "metadata": {},
   "outputs": [
    {
     "name": "stdout",
     "output_type": "stream",
     "text": [
      "------ Step 1: Finding the Optimal K with the Elbow Method -------\n",
      "For K=1, Inertia = 49.0\n",
      "For K=2, Inertia = 40.62733978311098\n",
      "For K=3, Inertia = 25.570919160914134\n",
      "For K=4, Inertia = 17.1636552907659\n",
      "For K=5, Inertia = 8.72344693031647\n",
      "For K=6, Inertia = 0.010795109898734665\n"
     ]
    },
    {
     "data": {
      "image/png": "[encoded data removed]",
      "text/plain": [
       "<Figure size 640x480 with 1 Axes>"
      ]
     },
     "metadata": {},
     "output_type": "display_data"
    }
   ],
   "source": [
    "\"\"\"\n",
    "The Problem with a \"Fixed K\"\n",
    "In our last ML session, we told our K-Means algorithm exactly how many clusters to find:\n",
    "Generated python\n",
    "kmeans = KMeans(n_clusters=3, ...)\n",
    "Use code with caution.\n",
    "Python\n",
    "We chose K=3 arbitrarily. But what if a user's spending habits are better described by 2 clusters (e.g., \"Bills\" and \"Daily Spending\")? \n",
    "Or maybe 4 clusters (e.g., \"Major Bills,\" \"Subscriptions,\" \"Groceries,\" and \"Fun Money\")?\n",
    "By hardcoding K=3, we might be forcing the data into groups that aren't natural. We are imposing our own bias on the model.\n",
    "The Elbow Method is a popular technique to help us find the optimal number of clusters (K) for a specific dataset. \n",
    "It automates the process of choosing the best K.\n",
    "Analogy: The \"Tidying Up\" Method\n",
    "Imagine you have a messy room full of toys (your data points). You want to put them into storage bins (your clusters).\n",
    "If you use only 1 bin (K=1): You just throw everything into one big bin. The room is \"tidier,\" but the bin is a chaotic mess. \n",
    "The average distance from a toy to the center of the bin is very large. There's a lot of \"error\" or inertia.\n",
    "If you use 2 bins (K=2): You might put all the LEGOs in one bin and all the stuffed animals in another. This is much better! \n",
    "The average distance from any toy to the center of its own bin is now much smaller. The inertia drops significantly.\n",
    "If you use 3 bins (K=3): Maybe you separate LEGOs, stuffed animals, and toy cars. The groups are even tighter. \n",
    "The inertia drops again, but probably not as dramatically as the jump from 1 to 2.\n",
    "If you use 10 bins for 10 toys (K=10): You put each toy in its own bin. The average distance from a toy to its bin's center is now zero! \n",
    "The inertia is zero. But is this useful? No. You haven't learned anything about the groups of toys.\n",
    "The \"Elbow\" Insight: The most significant drop in \"messiness\" (inertia) happens when you find the natural number of groups.\n",
    "Adding more bins after that point gives you diminishing returns.\n",
    "We can plot this on a graph:\n",
    "The X-axis is the number of clusters (K).\n",
    "The Y-axis is the \"messiness\" or inertia.\n",
    "The graph will look like a human arm. The point where it bends sharply—the \"elbow\"—is the sweet spot. \n",
    "It's the point where adding another cluster doesn't give you much benefit. That's our optimal K.\n",
    "\"\"\"\n",
    "\n",
    "from kneed import KneeLocator\n",
    "\n",
    "print(\"------ Step 1: Finding the Optimal K with the Elbow Method -------\")\n",
    "\n",
    "# We will test a range of cluster numbers from 1 up to a max (e.g., 7)\n",
    "# We can't have more clusters than data points.\n",
    "\n",
    "max_k = min(7, len(df_expenses) - 1)\n",
    "if max_k < 2:\n",
    "    print(\"Not enough data points to form multiple clusters.\")\n",
    "\n",
    "    # Exit or handle this case appropriately\n",
    "    exit()\n",
    "\n",
    "\n",
    "inertia_scores = []\n",
    "k_range = range(1, max_k + 1)\n",
    "\n",
    "for k in k_range:\n",
    "    kmeans = KMeans(n_clusters=k, random_state=42, n_init='auto')\n",
    "    kmeans.fit(scaled_features)\n",
    "    inertia_scores.append(kmeans.inertia_)\n",
    "    print(f\"For K={k}, Inertia = {kmeans.inertia_}\")\n",
    "\n",
    "# Can optionally plot this to see the elbow visually\n",
    "import matplotlib.pyplot as plt\n",
    "plt.plot(k_range, inertia_scores, marker='o')\n",
    "plt.xlabel(\"Number of clusters (K)\")\n",
    "plt.ylabel(\"Inertia\")\n",
    "plt.title(\"Elbow Method\")\n",
    "plt.show()"
   ]
  },
  {
   "cell_type": "code",
   "execution_count": 42,
   "id": "18a9ef1b-c6ac-4098-9558-aec38b78b982",
   "metadata": {},
   "outputs": [
    {
     "name": "stdout",
     "output_type": "stream",
     "text": [
      "Could not automatically determine optimal K. Defaulting to 3. \n",
      "\n",
      " -------- Step 2: The optimal number of clusters (K) is 3 --------\n"
     ]
    }
   ],
   "source": [
    "# The KneeLocator finds the \"knee\" or \"elbow\" of th curve.\n",
    "# curve = 'convex' because the curve is convex (bulges outward).\n",
    "# direction = 'decreasing' because inertia always decreases as K increases.\n",
    "kl = KneeLocator(k_range, inertia_scores, curve='convex', direction='decreasing')\n",
    "optimal_k = kl.elbow\n",
    "\n",
    "# It's possible for kneed to not find a clear elbow, so we have a fallback.\n",
    "if optimal_k is None:\n",
    "    print(\"Could not automatically determine optimal K. Defaulting to 3. \")\n",
    "    optimal_k = 3\n",
    "\n",
    "print(f\"\\n -------- Step 2: The optimal number of clusters (K) is {optimal_k} --------\")\n"
   ]
  },
  {
   "cell_type": "code",
   "execution_count": null,
   "id": "9c9bee00-ac51-4556-a269-7f4d48a7eb18",
   "metadata": {},
   "outputs": [],
   "source": [
    "print(f\"\\n---- Step 3: Running final clustering with K={optimal_k} -------\")\n",
    "\n",
    "\n",
    "final_kmeans = KMeans(n_clusters=optimal_k, random_state=42, n_init='auto')\n",
    "df_expenses['cluster'] = final_kmeans.fit_predict(scaled_features)\n",
    "\n",
    "\n",
    "# The interpretation logic from here is the same as before, but it's now more meaningful\n",
    "# Because it's operating on the \"correct\" number of clusters.\n",
    "\n",
    "\n",
    "# Remaining code can be written according to previous code."
   ]
  }
 ],
 "metadata": {
  "kernelspec": {
   "display_name": "Python financeAppML",
   "language": "python",
   "name": "financeappml"
  },
  "language_info": {
   "codemirror_mode": {
    "name": "ipython",
    "version": 3
   },
   "file_extension": ".py",
   "mimetype": "text/x-python",
   "name": "python",
   "nbconvert_exporter": "python",
   "pygments_lexer": "ipython3",
   "version": "3.10.0"
  }
 },
 "nbformat": 4,
 "nbformat_minor": 5
}
